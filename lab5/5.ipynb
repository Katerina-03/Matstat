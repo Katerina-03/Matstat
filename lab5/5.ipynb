{
 "cells": [
  {
   "cell_type": "markdown",
   "source": [
    "# Лабораторная №5\n",
    "## Васильева Екатерина\n",
    "## Группа M32081"
   ],
   "metadata": {
    "collapsed": false
   }
  },
  {
   "cell_type": "code",
   "execution_count": 164,
   "metadata": {
    "collapsed": true
   },
   "outputs": [],
   "source": [
    "import numpy as np\n",
    "import pandas as pd\n",
    "import scipy.stats as st\n",
    "from scipy import stats\n",
    "\n",
    "from collections import Counter"
   ]
  },
  {
   "cell_type": "code",
   "execution_count": 165,
   "outputs": [
    {
     "data": {
      "text/plain": "      Brand_Name How_Many_Sold Current_Price   \n0          ASIAN         2,242        ₹1,098  \\\n1          ASIAN           240          ₹674   \n2          ASIAN        16,662          ₹588   \n3          ASIAN           135          ₹599   \n4         Reebok           240          ₹982   \n...          ...           ...           ...   \n23935     Campus           198          ₹623   \n23936  Wakefield            49          ₹399   \n23937       URJO           557          ₹839   \n23938    FEETEES            63          ₹349   \n23939       FURO             2        ₹1,299   \n\n                                         Product_details  RATING  \n0      Oxygen-01 Sports Running,Walking & Gym Shoes w...     3.8  \n1      Men's Express-08 Sports Running,Walking,Gym,Tr...     4.0  \n2      Men's Cosko Sports Running,Walking,Gym,Trainin...     3.8  \n3      Wind-03 Sports Running,Walking & Gym Shoes wit...     4.0  \n4                Men's Velocity Runner Lp Running Shoe       4.0  \n...                                                  ...     ...  \n23935                   Men's HARVEL PRO Running Shoes       4.0  \n23936        Stylish Running Sports Shoes for MEN-2010       3.4  \n23937                               Mens Running Shoes       4.2  \n23938  Nexon Men's Casual Eva Socks Knitted Running S...     3.6  \n23939  Low Ankle Running Sports Shoes for Men (O-5033)       3.0  \n\n[23940 rows x 5 columns]",
      "text/html": "<div>\n<style scoped>\n    .dataframe tbody tr th:only-of-type {\n        vertical-align: middle;\n    }\n\n    .dataframe tbody tr th {\n        vertical-align: top;\n    }\n\n    .dataframe thead th {\n        text-align: right;\n    }\n</style>\n<table border=\"1\" class=\"dataframe\">\n  <thead>\n    <tr style=\"text-align: right;\">\n      <th></th>\n      <th>Brand_Name</th>\n      <th>How_Many_Sold</th>\n      <th>Current_Price</th>\n      <th>Product_details</th>\n      <th>RATING</th>\n    </tr>\n  </thead>\n  <tbody>\n    <tr>\n      <th>0</th>\n      <td>ASIAN</td>\n      <td>2,242</td>\n      <td>₹1,098</td>\n      <td>Oxygen-01 Sports Running,Walking &amp; Gym Shoes w...</td>\n      <td>3.8</td>\n    </tr>\n    <tr>\n      <th>1</th>\n      <td>ASIAN</td>\n      <td>240</td>\n      <td>₹674</td>\n      <td>Men's Express-08 Sports Running,Walking,Gym,Tr...</td>\n      <td>4.0</td>\n    </tr>\n    <tr>\n      <th>2</th>\n      <td>ASIAN</td>\n      <td>16,662</td>\n      <td>₹588</td>\n      <td>Men's Cosko Sports Running,Walking,Gym,Trainin...</td>\n      <td>3.8</td>\n    </tr>\n    <tr>\n      <th>3</th>\n      <td>ASIAN</td>\n      <td>135</td>\n      <td>₹599</td>\n      <td>Wind-03 Sports Running,Walking &amp; Gym Shoes wit...</td>\n      <td>4.0</td>\n    </tr>\n    <tr>\n      <th>4</th>\n      <td>Reebok</td>\n      <td>240</td>\n      <td>₹982</td>\n      <td>Men's Velocity Runner Lp Running Shoe</td>\n      <td>4.0</td>\n    </tr>\n    <tr>\n      <th>...</th>\n      <td>...</td>\n      <td>...</td>\n      <td>...</td>\n      <td>...</td>\n      <td>...</td>\n    </tr>\n    <tr>\n      <th>23935</th>\n      <td>Campus</td>\n      <td>198</td>\n      <td>₹623</td>\n      <td>Men's HARVEL PRO Running Shoes</td>\n      <td>4.0</td>\n    </tr>\n    <tr>\n      <th>23936</th>\n      <td>Wakefield</td>\n      <td>49</td>\n      <td>₹399</td>\n      <td>Stylish Running Sports Shoes for MEN-2010</td>\n      <td>3.4</td>\n    </tr>\n    <tr>\n      <th>23937</th>\n      <td>URJO</td>\n      <td>557</td>\n      <td>₹839</td>\n      <td>Mens Running Shoes</td>\n      <td>4.2</td>\n    </tr>\n    <tr>\n      <th>23938</th>\n      <td>FEETEES</td>\n      <td>63</td>\n      <td>₹349</td>\n      <td>Nexon Men's Casual Eva Socks Knitted Running S...</td>\n      <td>3.6</td>\n    </tr>\n    <tr>\n      <th>23939</th>\n      <td>FURO</td>\n      <td>2</td>\n      <td>₹1,299</td>\n      <td>Low Ankle Running Sports Shoes for Men (O-5033)</td>\n      <td>3.0</td>\n    </tr>\n  </tbody>\n</table>\n<p>23940 rows × 5 columns</p>\n</div>"
     },
     "execution_count": 165,
     "metadata": {},
     "output_type": "execute_result"
    }
   ],
   "source": [
    "df = pd.read_csv('MEN_SHOES.csv')\n",
    "df"
   ],
   "metadata": {
    "collapsed": false
   }
  },
  {
   "cell_type": "code",
   "execution_count": 166,
   "outputs": [],
   "source": [
    "df = df.dropna()"
   ],
   "metadata": {
    "collapsed": false
   }
  },
  {
   "cell_type": "code",
   "execution_count": 167,
   "outputs": [
    {
     "name": "stderr",
     "output_type": "stream",
     "text": [
      "C:\\Users\\ASUS\\AppData\\Local\\Temp\\ipykernel_10036\\3847641309.py:1: SettingWithCopyWarning: \n",
      "A value is trying to be set on a copy of a slice from a DataFrame.\n",
      "Try using .loc[row_indexer,col_indexer] = value instead\n",
      "\n",
      "See the caveats in the documentation: https://pandas.pydata.org/pandas-docs/stable/user_guide/indexing.html#returning-a-view-versus-a-copy\n",
      "  df['How_Many_Sold']=df['How_Many_Sold'].apply(lambda x: int(x.replace(',','')))\n"
     ]
    }
   ],
   "source": [
    "df['How_Many_Sold']=df['How_Many_Sold'].apply(lambda x: int(x.replace(',','')))"
   ],
   "metadata": {
    "collapsed": false
   }
  },
  {
   "cell_type": "code",
   "execution_count": 168,
   "outputs": [
    {
     "name": "stderr",
     "output_type": "stream",
     "text": [
      "C:\\Users\\ASUS\\AppData\\Local\\Temp\\ipykernel_10036\\1144419968.py:1: SettingWithCopyWarning: \n",
      "A value is trying to be set on a copy of a slice from a DataFrame.\n",
      "Try using .loc[row_indexer,col_indexer] = value instead\n",
      "\n",
      "See the caveats in the documentation: https://pandas.pydata.org/pandas-docs/stable/user_guide/indexing.html#returning-a-view-versus-a-copy\n",
      "  df['Current_Price']=df['Current_Price'].apply(lambda x: int(x.replace('₹','').replace(',','')))\n"
     ]
    }
   ],
   "source": [
    "df['Current_Price']=df['Current_Price'].apply(lambda x: int(x.replace('₹','').replace(',','')))"
   ],
   "metadata": {
    "collapsed": false
   }
  },
  {
   "cell_type": "code",
   "execution_count": 169,
   "outputs": [],
   "source": [
    "class LinearRegression():\n",
    "    def __init__(self, df, features, target, bias = False, coef_mask = None):\n",
    "        self.df = df\n",
    "        self.features = features\n",
    "        self.target = target\n",
    "        self.masking = Counter(coef_mask)[0] # Если модель с ограничениями, здесь будет храниться их количество\n",
    "        self.mask = coef_mask\n",
    "\n",
    "        if bias:\n",
    "            self.features.insert(0, 'bias')\n",
    "            if 'bias' not in df.columns:\n",
    "                df.insert(0, 'bias', [1] * len(self.df))\n",
    "            if self.masking:\n",
    "                coef_mask = np.insert(coef_mask, 0, 1)\n",
    "\n",
    "        self.X = self.df[features]\n",
    "\n",
    "        if self.masking:\n",
    "            columns = list(self.X.columns)\n",
    "            remained_columns = []\n",
    "            for i, mask in enumerate(coef_mask):\n",
    "                if mask:\n",
    "                    remained_columns.append(columns[i])\n",
    "            X = self.X[remained_columns].to_numpy()\n",
    "            self.y = self.df[target].to_numpy()\n",
    "            self.coefs = self.make_model(X, self.y)\n",
    "            for idx, mask in enumerate(coef_mask):\n",
    "                if not mask:\n",
    "                    self.coefs = np.insert(self.coefs, idx, 0)\n",
    "\n",
    "        else:\n",
    "            self.X = self.X.to_numpy()\n",
    "            self.y = self.df[target].to_numpy()\n",
    "            self.coefs = self.make_model(self.X, self.y)\n",
    "\n",
    "\n",
    "    def make_model(self, X, y):\n",
    "        coefs = np.linalg.inv(X.T @ X) @ X.T @ y\n",
    "        return coefs\n",
    "\n",
    "\n",
    "    def predict(self, x):\n",
    "        return x @ self.coefs\n",
    "\n",
    "\n",
    "    def residual_variance(self):\n",
    "        predictions = self.X @ self.coefs\n",
    "        eps = predictions - self.y\n",
    "        error = eps @ eps.T\n",
    "        n, m = self.X.shape\n",
    "        return error / (n - m)\n",
    "\n",
    "\n",
    "    def count_inv_A(self):\n",
    "        A = self.X.T @ self.X\n",
    "        invA = np.linalg.inv(A)\n",
    "        return invA\n",
    "\n",
    "\n",
    "    def _count_term(self, alpha):\n",
    "        invA = self.count_inv_A()\n",
    "        # Подсчет доверительного интервала\n",
    "        n, m = self.X.shape\n",
    "        quantile = st.t.ppf(1 - alpha / 2, df = n - m)\n",
    "\n",
    "        S2 = self.residual_variance()\n",
    "        term = S2 ** 0.5\n",
    "        term *= quantile\n",
    "        return term, invA\n",
    "\n",
    "\n",
    "    def count(self):\n",
    "        return self.X @ self.coefs\n",
    "\n",
    "\n",
    "    def name_interval(self, name, alpha = 0.05):\n",
    "        term, invA = self._count_term(alpha)\n",
    "        idx = self.features.index(name)\n",
    "        coef = self.coefs[idx]\n",
    "        current_term = term * np.sqrt(invA[idx][idx])\n",
    "        left_bound = coef - current_term\n",
    "        right_bound = coef + current_term\n",
    "\n",
    "        return left_bound, right_bound\n",
    "\n",
    "\n",
    "    def all_intervals(self, alpha = 0.05):\n",
    "        term, invA = self._count_term(alpha)\n",
    "        left_bounds = []\n",
    "        right_bounds = []\n",
    "\n",
    "        for i, coef in enumerate(self.coefs):\n",
    "            current_term = term * np.sqrt(invA[i][i])\n",
    "            left_bound = coef - current_term\n",
    "            right_bound = coef + current_term\n",
    "            left_bounds.append(left_bound)\n",
    "            right_bounds.append(right_bound)\n",
    "\n",
    "        return left_bounds, right_bounds\n",
    "\n",
    "\n",
    "    def print_info(self, alpha = 0.05):\n",
    "        info = '\\n'.join([f'Коэффициент для {self.features[i]}: {self.coefs[i]}'\n",
    "                          for i in range(len(self.coefs))])\n",
    "        print(info)\n",
    "\n",
    "        print('\\nОстаточная дисперсия : ', self.residual_variance())\n",
    "\n",
    "        print('\\nКоэффициент детерминации: ', self.determination_coef())\n",
    "\n",
    "        print(f'\\nДоверительные интервалы для alpha = {alpha}:')\n",
    "        left_bounds, right_bounds = self.all_intervals(alpha)\n",
    "        info = '\\n'.join([\n",
    "            '{}: [{}; {}]'.\n",
    "            format(self.features[i], left_bounds[i], right_bounds[i])\n",
    "            for i in range(len(self.features))])\n",
    "        print(info)\n",
    "\n",
    "\n",
    "    def determination_coef(self):\n",
    "        sse = sum((self.y - self.X @ self.coefs) ** 2)\n",
    "        mean_y = np.mean(self.y)\n",
    "        sst = sum((self.y - mean_y) ** 2)\n",
    "        return 1 - sse / sst\n",
    "\n",
    "\n",
    "    def countT_stat(self, name):\n",
    "\n",
    "        n, m = self.X.shape\n",
    "        idx = self.features.index(name)\n",
    "        coef = self.coefs[idx]\n",
    "        num = coef\n",
    "        invA = self.count_inv_A()\n",
    "        S2 = self.residual_variance()\n",
    "        denum = (invA[idx][idx] * S2) ** 0.5\n",
    "        T = num / denum\n",
    "        p_value = 1 - st.t.cdf(T, n - m)\n",
    "        return T, p_value"
   ],
   "metadata": {
    "collapsed": false
   }
  },
  {
   "cell_type": "markdown",
   "source": [
    "LinearRegression() по сути является оберткой над различными реализациями методов наименьших квадратов."
   ],
   "metadata": {
    "collapsed": false
   }
  },
  {
   "cell_type": "markdown",
   "source": [
    "***Задание 1***"
   ],
   "metadata": {
    "collapsed": false
   }
  },
  {
   "cell_type": "markdown",
   "source": [
    "Вектор независимых переменных - $x=(x_0,x_1,x_2)$ <br>\n",
    "$x_0 = 1$, так как модель со свободным коэффициентом\n",
    "$y_i \\approx \\sum_{j=1}^4 x_{ij}c_j$ <br>\n",
    "$y$ - целевая переменная"
   ],
   "metadata": {
    "collapsed": false
   }
  },
  {
   "cell_type": "code",
   "execution_count": 170,
   "outputs": [
    {
     "name": "stdout",
     "output_type": "stream",
     "text": [
      "Коэффициент для bias: 3.347571501914359\n",
      "Коэффициент для How_Many_Sold: 8.263894533593866e-06\n",
      "Коэффициент для Current_Price: 0.0005263263156671574\n",
      "\n",
      "Остаточная дисперсия :  0.11973197812338982\n",
      "\n",
      "Коэффициент детерминации:  0.26872791897558723\n",
      "\n",
      "Доверительные интервалы для alpha = 0.05:\n",
      "bias: [3.336485457063946; 3.3586575467647717]\n",
      "How_Many_Sold: [7.849699469747399e-06; 8.678089597440333e-06]\n",
      "Current_Price: [0.000514679493923359; 0.0005379731374109557]\n"
     ]
    }
   ],
   "source": [
    "lr = LinearRegression(df = df,\n",
    "                      features = ['How_Many_Sold', 'Current_Price'],\n",
    "                      target = 'RATING',\n",
    "                      bias = True)\n",
    "lr.print_info()"
   ],
   "metadata": {
    "collapsed": false
   }
  },
  {
   "cell_type": "markdown",
   "source": [
    "Коэффициент детерминациии 0.3 < 0.5, что низко и показывает на низкую зависимость независимых переменных. По коэффициентам видим положительную корреляцию рейтинга от количества продаж и цены. Свободный коэффициент - влияние на рейтинг остальных невыбранных факторов"
   ],
   "metadata": {
    "collapsed": false
   }
  },
  {
   "cell_type": "markdown",
   "source": [
    "***Задание 2***\n",
    "а) Чем больше продажи, тем больше рейтинг\n",
    "\n",
    "$H_0$ - рейтинг не зависит от продаж\n",
    "$H_1$ - рейтинг зависит от продаж"
   ],
   "metadata": {
    "collapsed": false
   }
  },
  {
   "cell_type": "code",
   "execution_count": 171,
   "outputs": [
    {
     "name": "stdout",
     "output_type": "stream",
     "text": [
      "H1\n"
     ]
    }
   ],
   "source": [
    "stat, p = lr.countT_stat(name = 'How_Many_Sold')\n",
    "if p > 0.05:\n",
    "    print(\"H0\")\n",
    "else:\n",
    "    print(\"H1\")"
   ],
   "metadata": {
    "collapsed": false
   }
  },
  {
   "cell_type": "markdown",
   "source": [
    "б)Рейтинг зависит от цены\n",
    "\n",
    "$H_0$ - нет никакой зависимости\n",
    "$H_1$ - есть зависимость"
   ],
   "metadata": {
    "collapsed": false
   }
  },
  {
   "cell_type": "code",
   "execution_count": 172,
   "outputs": [
    {
     "name": "stdout",
     "output_type": "stream",
     "text": [
      "H1\n"
     ]
    }
   ],
   "source": [
    "stat, p = lr.countT_stat(name = 'Current_Price')\n",
    "if p > 0.05:\n",
    "    print(\"H0\")\n",
    "else:\n",
    "    print(\"H1\")"
   ],
   "metadata": {
    "collapsed": false
   }
  },
  {
   "cell_type": "markdown",
   "source": [
    "в) Рейтинг зависит и от цены, и от количества проданных экземпляров\n",
    "\n",
    "$H_0$ - нет такой зависимости\n",
    "$H_1$ - есть зависимость\n"
   ],
   "metadata": {
    "collapsed": false
   }
  },
  {
   "cell_type": "code",
   "execution_count": 173,
   "outputs": [
    {
     "name": "stdout",
     "output_type": "stream",
     "text": [
      "Коэффициент для bias: 3.820689655172416\n",
      "Коэффициент для How_Many_Sold: 0.0\n",
      "Коэффициент для Current_Price: 0.0\n",
      "\n",
      "Остаточная дисперсия :  0.1637310943905723\n",
      "\n",
      "Коэффициент детерминации:  -4.3298697960381105e-14\n",
      "\n",
      "Доверительные интервалы для alpha = 0.05:\n",
      "bias: [3.8077257115177243; 3.833653598827108]\n",
      "How_Many_Sold: [-4.843568235750977e-07; 4.843568235750977e-07]\n",
      "Current_Price: [-1.361971224906404e-05; 1.361971224906404e-05]\n"
     ]
    }
   ],
   "source": [
    "lr1 = LinearRegression(df = df,\n",
    "                          features = ['How_Many_Sold', 'Current_Price'],\n",
    "                          target = 'RATING',\n",
    "                          bias = True,\n",
    "                          coef_mask = [0, 0])\n",
    "lr1.print_info()"
   ],
   "metadata": {
    "collapsed": false
   }
  },
  {
   "cell_type": "code",
   "execution_count": 174,
   "outputs": [],
   "source": [
    "def countF_stat(lr1: LinearRegression,\n",
    "                lr: LinearRegression):\n",
    "    temp = lr1.count()\n",
    "    cond_error = temp.T @ temp\n",
    "    temp = lr.count() - lr.y\n",
    "    error = temp.T @ temp\n",
    "    F = (cond_error - error) / error\n",
    "    n, m = lr.df.shape\n",
    "    F *= (n - m) / lr1.masking\n",
    "    p_value = 1 - st.f.cdf(F, lr1.masking, n - m)\n",
    "    return F, p_value"
   ],
   "metadata": {
    "collapsed": false
   }
  },
  {
   "cell_type": "code",
   "execution_count": 175,
   "outputs": [
    {
     "name": "stdout",
     "output_type": "stream",
     "text": [
      "H1\n"
     ]
    }
   ],
   "source": [
    "stat, p = countF_stat(lr1, lr)\n",
    "if p > 0.05:\n",
    "    print(\"H0\")\n",
    "else:\n",
    "    print(\"H1\")"
   ],
   "metadata": {
    "collapsed": false
   }
  }
 ],
 "metadata": {
  "kernelspec": {
   "display_name": "Python 3",
   "language": "python",
   "name": "python3"
  },
  "language_info": {
   "codemirror_mode": {
    "name": "ipython",
    "version": 2
   },
   "file_extension": ".py",
   "mimetype": "text/x-python",
   "name": "python",
   "nbconvert_exporter": "python",
   "pygments_lexer": "ipython2",
   "version": "2.7.6"
  }
 },
 "nbformat": 4,
 "nbformat_minor": 0
}

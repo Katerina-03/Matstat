{
 "cells": [
  {
   "cell_type": "markdown",
   "source": [
    "# Лабораторная №3"
   ],
   "metadata": {
    "collapsed": false
   }
  },
  {
   "cell_type": "markdown",
   "source": [
    "*Задание 1* <br>\n",
    "\n",
    "Две независимые выборки X, Y из нормальных распрделений $N(\\mu_1,\\sigma_1^2)$, $N(\\mu_2,\\sigma_2^2)$ объёма n, m соотвественно <br>\n",
    "$\\tau = \\mu_1 - \\mu_2$, $\\mu_1=2$, $\\mu_2=1$, $\\sigma_1^2=1$, $\\sigma_2^2 = 0.5$<br>\n",
    "$ z = \\frac{\\bar X - \\bar Y - \\tau}{\\sigma}$, $\\sigma^2 = \\frac{\\sigma_1^2}{n}+\\frac{\\sigma_2^2}{m}$<br>\n",
    "*По свойствам нормального распределения:*<br>\n",
    "$E(z)=E(\\overline X) - E(\\overline Y) = E(x) - E(y) = \\mu_1-\\mu_2 = \\tau 0$<br>\n",
    "$D(z)=D(\\overline X-\\overline Y)=D(\\overline X)+D(\\overline Y) = \\frac{\\sigma_1^2}{n} + \\frac{\\sigma_2^2}{m}$<br>\n",
    "$\\bar X - \\bar Y \\sim N(\\tau, \\frac{\\sigma_1^2}{n} + \\frac{\\sigma_2^2}{m})$ <br>\n",
    "$\\bar X - \\bar Y - \\tau \\sim N(0, \\frac{\\sigma_1^2}{n} + \\frac{\\sigma_2^2}{m})$<br>\n",
    "\n",
    "$\\bar X$, $\\bar Y$  - среднее выборочное <br>\n",
    "\n",
    "Т.к $\\sqrt{n} \\frac{\\bar X - \\mu_1}{\\sigma_1} \\sim N(0,1)$ и $\\sqrt{m}\\frac{\\bar Y - \\mu_2}{\\sigma_2} \\sim N(0,1)$<br>\n",
    "Тогда, $\\frac{\\bar X - \\bar Y - \\tau}{\\sqrt{\\frac{\\sigma_1^2}{n}+\\frac{\\sigma_2^2}{m}}} \\sim N(0,1)$ <br>\n",
    "\n",
    "$P(-q_{1-\\frac{\\alpha}{2}} \\le \\frac{\\bar X - \\bar Y - \\tau}{\\sigma} \\le q_{1-\\frac{\\alpha}{2}}) \\approx 1 - \\alpha$<br>\n",
    "$P(\\tau \\in [\\bar X - \\bar Y - q_{1-\\frac{\\alpha}{2}} \\sigma; \\bar X - \\bar Y + q_{1-\\frac{\\alpha}{2}} \\sigma]) \\approx 1 - \\alpha $<br>\n",
    "$P(\\tau \\in [\\bar X - \\bar Y - q_{1-\\alpha / 2}\\sqrt{\\dfrac{\\sigma_1^2}{n} + \\dfrac{\\sigma_2^2}{m}}; \\bar X - \\bar Y + q_{1-\\alpha / 2}\\sqrt{\\dfrac{\\sigma_1^2}{n} + \\dfrac{\\sigma_2^2}{m}}]) \\approx 1 - \\alpha$"
   ],
   "metadata": {
    "collapsed": false
   }
  },
  {
   "cell_type": "code",
   "execution_count": 88,
   "outputs": [],
   "source": [
    "import numpy as np\n",
    "from scipy import stats\n",
    "\n",
    "m1 = 2\n",
    "m2 = 1\n",
    "var1 = 1\n",
    "var2 = 0.5\n",
    "tau = m1-m2\n",
    "\n",
    "def func1(m1, var1, n, m2, var2, m, tau):\n",
    "  count = 0\n",
    "  for _ in range(1000):\n",
    "      X = np.random.normal(m1, var1, n)\n",
    "      Y = np.random.normal(m2, var2, m)\n",
    "\n",
    "      sigma = np.sqrt(var1 / n + var2 / m)\n",
    "\n",
    "      left = X.mean() - Y.mean() - stats.norm.ppf(0.95) * sigma\n",
    "      right = X.mean() - Y.mean() + stats.norm.ppf(0.95) * sigma\n",
    "\n",
    "      if left <= tau <= right:\n",
    "          count += 1\n",
    "  print(count)"
   ],
   "metadata": {
    "collapsed": false
   }
  },
  {
   "cell_type": "code",
   "execution_count": 89,
   "outputs": [
    {
     "name": "stdout",
     "output_type": "stream",
     "text": [
      "938\n"
     ]
    }
   ],
   "source": [
    "n = m = 25\n",
    "\n",
    "func1(m1, var1, n, m2, var2, n, tau)"
   ],
   "metadata": {
    "collapsed": false
   }
  },
  {
   "cell_type": "code",
   "execution_count": 90,
   "outputs": [
    {
     "name": "stdout",
     "output_type": "stream",
     "text": [
      "937\n"
     ]
    }
   ],
   "source": [
    "n = m = 10000\n",
    "func1(m1, var1, n, m2, var2, n, tau)"
   ],
   "metadata": {
    "collapsed": false
   }
  },
  {
   "cell_type": "markdown",
   "source": [
    "*Задание 2* <br>"
   ],
   "metadata": {
    "collapsed": false
   }
  },
  {
   "cell_type": "markdown",
   "source": [
    "$U [-\\theta; \\theta], \\theta = 5$ воспользуйтесь предельной теоремой об асимптотическом поведении крайних членов вариацонного ряда"
   ],
   "metadata": {
    "collapsed": false
   }
  },
  {
   "cell_type": "markdown",
   "source": [
    "*Теорема об асимптотическом поведении крайних членов вариационного ряда утверждает, что крайние члены вариационного ряда будут приблизительно нормально распределены с параметрами $\\mu = \\frac{x_1 + x_n}{2}$ и $\\sigma^2 = \\frac{(x_n - x_1)^2} {12n}$*<br>\n",
    "\n",
    "$E(|X|)= \\frac{\\theta^2}{12}$<br>\n",
    "$D(|X|)=\\sigma^2 \\rightarrow \\sigma=\\sqrt{D(X)} = \\frac{\\theta}{2\\sqrt{3}}$<br>\n",
    "$E(|X|)=\\overline X$<br>\n",
    "$\\theta = 2\\overline X$<br>\n",
    "$nF(x_{(r)}) \\to U_1 \\sim Г(r, 1)$<br>\n",
    "$n(1-F(x_{(n+1-s)}) \\to U_2 \\sim Г(s, 1)$<br>\n",
    "При $r=s=1, x_{(1)} = x min, x_{(n)} = x max$<br>\n",
    "\n",
    "$F(x) = \\frac{x+\\theta}{2\\theta}$ <br>\n",
    "$n\\frac{x_{(1)} + \\theta}{2\\theta} \\to Г(1,1) = Exp(1)$<br>\n",
    "\n",
    "$P(-q_{1 - \\alpha/2}\\leq n\\frac{x_{(1)} + \\theta}{2\\theta} \\leq q_{1 - \\alpha/2}) \\approx 1 - \\alpha$<br>\n",
    "$\\theta \\in [ \\frac{n x_{(1)}}{2(q-n)}; -\\frac{n x_{(1)}}{2(q+n)}]$ <br>\n",
    "\n",
    "$1 - e^{-x} =  0.025 ⇒ x = q_{a/2} =  0.0253178 $<br>\n",
    "\n",
    "$1 - e^{-x} =  0.975 ⇒ x = q_{1-a/2} = 3.6888888 $<br>\n"
   ],
   "metadata": {
    "collapsed": false
   }
  },
  {
   "cell_type": "code",
   "execution_count": 91,
   "outputs": [],
   "source": [
    "theta = 5\n",
    "q1 = 0.0253\n",
    "q2 = 3.6888\n",
    "def func2(n, theta):\n",
    "  count = 0\n",
    "\n",
    "  for i in range(1000):\n",
    "    sample = stats.uniform.rvs(loc=-theta,scale=theta,size=n)\n",
    "    sample_min = sample.min()\n",
    "\n",
    "    left   = (n * sample_min) / (2 * q1 - n)\n",
    "    right = (n * sample_min) / (2 * q2 - n)\n",
    "\n",
    "    if left <= theta <= right:\n",
    "          count += 1\n",
    "  print(count)"
   ],
   "metadata": {
    "collapsed": false
   }
  },
  {
   "cell_type": "code",
   "execution_count": 92,
   "outputs": [
    {
     "name": "stdout",
     "output_type": "stream",
     "text": [
      "959\n",
      "956\n"
     ]
    }
   ],
   "source": [
    "n = 25\n",
    "func2(n, theta)\n",
    "n = 10000\n",
    "func2(n, theta)"
   ],
   "metadata": {
    "collapsed": false
   }
  },
  {
   "cell_type": "markdown",
   "source": [],
   "metadata": {
    "collapsed": false
   }
  }
 ],
 "metadata": {
  "kernelspec": {
   "display_name": "Python 3",
   "language": "python",
   "name": "python3"
  },
  "language_info": {
   "codemirror_mode": {
    "name": "ipython",
    "version": 2
   },
   "file_extension": ".py",
   "mimetype": "text/x-python",
   "name": "python",
   "nbconvert_exporter": "python",
   "pygments_lexer": "ipython2",
   "version": "2.7.6"
  }
 },
 "nbformat": 4,
 "nbformat_minor": 0
}
